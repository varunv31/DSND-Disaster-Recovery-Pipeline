{
 "cells": [
  {
   "cell_type": "markdown",
   "metadata": {},
   "source": [
    "# ML Pipeline Preparation\n",
    "Follow the instructions below to help you create your ML pipeline.\n",
    "### 1. Import libraries and load data from database.\n",
    "- Import Python libraries\n",
    "- Load dataset from database with [`read_sql_table`](https://pandas.pydata.org/pandas-docs/stable/generated/pandas.read_sql_table.html)\n",
    "- Define feature and target variables X and Y"
   ]
  },
  {
   "cell_type": "code",
   "execution_count": 15,
   "metadata": {},
   "outputs": [
    {
     "name": "stdout",
     "output_type": "stream",
     "text": [
      "[nltk_data] Downloading package punkt to /root/nltk_data...\n",
      "[nltk_data]   Package punkt is already up-to-date!\n",
      "[nltk_data] Downloading package wordnet to /root/nltk_data...\n",
      "[nltk_data]   Package wordnet is already up-to-date!\n",
      "[nltk_data] Downloading package averaged_perceptron_tagger to\n",
      "[nltk_data]     /root/nltk_data...\n",
      "[nltk_data]   Package averaged_perceptron_tagger is already up-to-\n",
      "[nltk_data]       date!\n",
      "[nltk_data] Downloading package stopwords to /root/nltk_data...\n",
      "[nltk_data]   Package stopwords is already up-to-date!\n"
     ]
    },
    {
     "data": {
      "text/plain": [
       "True"
      ]
     },
     "execution_count": 15,
     "metadata": {},
     "output_type": "execute_result"
    }
   ],
   "source": [
    "# import libraries\n",
    "\n",
    "import pandas as pd\n",
    "import numpy as np\n",
    "import pickle\n",
    "from sqlalchemy import create_engine\n",
    "import re\n",
    "import nltk\n",
    "from nltk.corpus import stopwords\n",
    "from sklearn.base import BaseEstimator, TransformerMixin\n",
    "from sklearn.model_selection import train_test_split\n",
    "from sklearn.multioutput import MultiOutputClassifier\n",
    "from sklearn.ensemble import RandomForestClassifier, GradientBoostingClassifier,AdaBoostClassifier\n",
    "from sklearn.feature_extraction.text import CountVectorizer, TfidfTransformer\n",
    "from nltk.tokenize import word_tokenize\n",
    "from nltk.stem import WordNetLemmatizer\n",
    "from sklearn.pipeline import Pipeline, FeatureUnion\n",
    "from sklearn.model_selection import GridSearchCV\n",
    "from sklearn.metrics import make_scorer, accuracy_score, f1_score, fbeta_score, classification_report\n",
    "from sklearn.metrics import precision_recall_fscore_support\n",
    "from scipy.stats import hmean\n",
    "from scipy.stats.mstats import gmean\n",
    "\n",
    "nltk.download(['punkt', 'wordnet', 'averaged_perceptron_tagger','stopwords'])"
   ]
  },
  {
   "cell_type": "code",
   "execution_count": 16,
   "metadata": {},
   "outputs": [],
   "source": [
    "# load data from database\n",
    "engine = create_engine('sqlite:///InsertDatabaseName.db')\n",
    "df = pd.read_sql_table('Disaster_Combined', engine)\n",
    "X = df['message']\n",
    "Y = df.iloc[:,4:]"
   ]
  },
  {
   "cell_type": "markdown",
   "metadata": {},
   "source": [
    "### 2. Write a tokenization function to process your text data"
   ]
  },
  {
   "cell_type": "code",
   "execution_count": 17,
   "metadata": {},
   "outputs": [],
   "source": [
    "def tokenize(text):\n",
    "    # Normalize\n",
    "    # Set text to lower case and remove punctuation\n",
    "    text= text.lower()\n",
    "    text = re.sub(r\"[^a-zA-Z0-9]\", \" \", text)\n",
    "    # Tokenize words \n",
    "    tokens = word_tokenize(text)\n",
    "    # lemmatizer and remove stopwords\n",
    "    # lemmatizer\n",
    "    lemmatizer = WordNetLemmatizer()\n",
    "    # stopwords\n",
    "    stop_words = set(stopwords.words('english'))\n",
    "    # lemmatizer and remove stopwords\n",
    "    clean_tokens = [lemmatizer.lemmatize(w) for w in tokens if not w in stop_words]\n",
    "    clean_tokens = [] \n",
    "    for w in tokens: \n",
    "        if w not in stop_words: \n",
    "            clean_tokens.append(w)\n",
    "    return clean_tokens\n",
    "  "
   ]
  },
  {
   "cell_type": "markdown",
   "metadata": {},
   "source": [
    "### 3. Build a machine learning pipeline\n",
    "This machine pipeline should take in the `message` column as input and output classification results on the other 36 categories in the dataset. You may find the [MultiOutputClassifier](http://scikit-learn.org/stable/modules/generated/sklearn.multioutput.MultiOutputClassifier.html) helpful for predicting multiple target variables."
   ]
  },
  {
   "cell_type": "code",
   "execution_count": 18,
   "metadata": {},
   "outputs": [],
   "source": [
    "# Creating a pipeline with Classifier\n",
    "pipeline = Pipeline([\n",
    "    ('vect', CountVectorizer(tokenizer = tokenize)),\n",
    "    ('tfidf', TfidfTransformer()),\n",
    "    ('clf', MultiOutputClassifier(RandomForestClassifier()))\n",
    "])"
   ]
  },
  {
   "cell_type": "markdown",
   "metadata": {},
   "source": [
    "### 4. Train pipeline\n",
    "- Split data into train and test sets\n",
    "- Train pipeline"
   ]
  },
  {
   "cell_type": "code",
   "execution_count": 19,
   "metadata": {},
   "outputs": [],
   "source": [
    "#Split data into train and test sets\n",
    "X_train, X_test, y_train, y_test = train_test_split(X, Y,test_size=0.3)"
   ]
  },
  {
   "cell_type": "code",
   "execution_count": 20,
   "metadata": {},
   "outputs": [
    {
     "data": {
      "text/plain": [
       "Pipeline(memory=None,\n",
       "     steps=[('vect', CountVectorizer(analyzer='word', binary=False, decode_error='strict',\n",
       "        dtype=<class 'numpy.int64'>, encoding='utf-8', input='content',\n",
       "        lowercase=True, max_df=1.0, max_features=None, min_df=1,\n",
       "        ngram_range=(1, 1), preprocessor=None, stop_words=None,\n",
       "        strip...oob_score=False, random_state=None, verbose=0,\n",
       "            warm_start=False),\n",
       "           n_jobs=1))])"
      ]
     },
     "execution_count": 20,
     "metadata": {},
     "output_type": "execute_result"
    }
   ],
   "source": [
    "#Train pipeline\n",
    "pipeline.fit(X_train, y_train)"
   ]
  },
  {
   "cell_type": "markdown",
   "metadata": {},
   "source": [
    "### 5. Test your model\n",
    "Report the f1 score, precision and recall for each output category of the dataset. You can do this by iterating through the columns and calling sklearn's `classification_report` on each."
   ]
  },
  {
   "cell_type": "code",
   "execution_count": 21,
   "metadata": {},
   "outputs": [],
   "source": [
    "y_pred = pipeline.predict(X_test)"
   ]
  },
  {
   "cell_type": "code",
   "execution_count": 22,
   "metadata": {},
   "outputs": [],
   "source": [
    "#Getting the f1_score,precision and recall\n",
    "def get_results(y_test, y_pred):\n",
    "    results = pd.DataFrame(columns=['Category', 'f1_score', 'precision', 'recall'])\n",
    "    num = 0\n",
    "    for cat in y_test.columns:\n",
    "        precision, recall, f1_score, support = precision_recall_fscore_support(y_test[cat], y_pred[:,num], average='weighted')\n",
    "        results.set_value(num+1, 'Category', cat)\n",
    "        results.set_value(num+1, 'f1_score', f1_score)\n",
    "        results.set_value(num+1, 'precision', precision)\n",
    "        results.set_value(num+1, 'recall', recall)\n",
    "        num += 1\n",
    "    print('f1_score:', results['f1_score'].mean())\n",
    "    print('precision:', results['precision'].mean())\n",
    "    print('recall:', results['recall'].mean())\n",
    "    return results"
   ]
  },
  {
   "cell_type": "code",
   "execution_count": 23,
   "metadata": {},
   "outputs": [
    {
     "name": "stdout",
     "output_type": "stream",
     "text": [
      "f1_score: 0.932339019646\n",
      "precision: 0.932968289901\n",
      "recall: 0.944437380801\n"
     ]
    },
    {
     "name": "stderr",
     "output_type": "stream",
     "text": [
      "/opt/conda/lib/python3.6/site-packages/ipykernel_launcher.py:7: FutureWarning: set_value is deprecated and will be removed in a future release. Please use .at[] or .iat[] accessors instead\n",
      "  import sys\n",
      "/opt/conda/lib/python3.6/site-packages/ipykernel_launcher.py:8: FutureWarning: set_value is deprecated and will be removed in a future release. Please use .at[] or .iat[] accessors instead\n",
      "  \n",
      "/opt/conda/lib/python3.6/site-packages/ipykernel_launcher.py:9: FutureWarning: set_value is deprecated and will be removed in a future release. Please use .at[] or .iat[] accessors instead\n",
      "  if __name__ == '__main__':\n",
      "/opt/conda/lib/python3.6/site-packages/ipykernel_launcher.py:10: FutureWarning: set_value is deprecated and will be removed in a future release. Please use .at[] or .iat[] accessors instead\n",
      "  # Remove the CWD from sys.path while we load stuff.\n",
      "/opt/conda/lib/python3.6/site-packages/sklearn/metrics/classification.py:1135: UndefinedMetricWarning: Precision and F-score are ill-defined and being set to 0.0 in labels with no predicted samples.\n",
      "  'precision', 'predicted', average, warn_for)\n"
     ]
    },
    {
     "data": {
      "text/html": [
       "<div>\n",
       "<style scoped>\n",
       "    .dataframe tbody tr th:only-of-type {\n",
       "        vertical-align: middle;\n",
       "    }\n",
       "\n",
       "    .dataframe tbody tr th {\n",
       "        vertical-align: top;\n",
       "    }\n",
       "\n",
       "    .dataframe thead th {\n",
       "        text-align: right;\n",
       "    }\n",
       "</style>\n",
       "<table border=\"1\" class=\"dataframe\">\n",
       "  <thead>\n",
       "    <tr style=\"text-align: right;\">\n",
       "      <th></th>\n",
       "      <th>Category</th>\n",
       "      <th>f1_score</th>\n",
       "      <th>precision</th>\n",
       "      <th>recall</th>\n",
       "    </tr>\n",
       "  </thead>\n",
       "  <tbody>\n",
       "    <tr>\n",
       "      <th>1</th>\n",
       "      <td>related</td>\n",
       "      <td>0.784781</td>\n",
       "      <td>0.784109</td>\n",
       "      <td>0.797203</td>\n",
       "    </tr>\n",
       "    <tr>\n",
       "      <th>2</th>\n",
       "      <td>request</td>\n",
       "      <td>0.868682</td>\n",
       "      <td>0.876089</td>\n",
       "      <td>0.883789</td>\n",
       "    </tr>\n",
       "    <tr>\n",
       "      <th>3</th>\n",
       "      <td>offer</td>\n",
       "      <td>0.994219</td>\n",
       "      <td>0.992385</td>\n",
       "      <td>0.996058</td>\n",
       "    </tr>\n",
       "    <tr>\n",
       "      <th>4</th>\n",
       "      <td>aid_related</td>\n",
       "      <td>0.742718</td>\n",
       "      <td>0.748956</td>\n",
       "      <td>0.748887</td>\n",
       "    </tr>\n",
       "    <tr>\n",
       "      <th>5</th>\n",
       "      <td>medical_help</td>\n",
       "      <td>0.894725</td>\n",
       "      <td>0.898477</td>\n",
       "      <td>0.923458</td>\n",
       "    </tr>\n",
       "    <tr>\n",
       "      <th>6</th>\n",
       "      <td>medical_products</td>\n",
       "      <td>0.934409</td>\n",
       "      <td>0.940351</td>\n",
       "      <td>0.952575</td>\n",
       "    </tr>\n",
       "    <tr>\n",
       "      <th>7</th>\n",
       "      <td>search_and_rescue</td>\n",
       "      <td>0.961818</td>\n",
       "      <td>0.961417</td>\n",
       "      <td>0.973172</td>\n",
       "    </tr>\n",
       "    <tr>\n",
       "      <th>8</th>\n",
       "      <td>security</td>\n",
       "      <td>0.970852</td>\n",
       "      <td>0.961469</td>\n",
       "      <td>0.98042</td>\n",
       "    </tr>\n",
       "    <tr>\n",
       "      <th>9</th>\n",
       "      <td>military</td>\n",
       "      <td>0.96118</td>\n",
       "      <td>0.961447</td>\n",
       "      <td>0.971011</td>\n",
       "    </tr>\n",
       "    <tr>\n",
       "      <th>10</th>\n",
       "      <td>child_alone</td>\n",
       "      <td>1</td>\n",
       "      <td>1</td>\n",
       "      <td>1</td>\n",
       "    </tr>\n",
       "    <tr>\n",
       "      <th>11</th>\n",
       "      <td>water</td>\n",
       "      <td>0.92276</td>\n",
       "      <td>0.933958</td>\n",
       "      <td>0.940877</td>\n",
       "    </tr>\n",
       "    <tr>\n",
       "      <th>12</th>\n",
       "      <td>food</td>\n",
       "      <td>0.914231</td>\n",
       "      <td>0.916427</td>\n",
       "      <td>0.923713</td>\n",
       "    </tr>\n",
       "    <tr>\n",
       "      <th>13</th>\n",
       "      <td>shelter</td>\n",
       "      <td>0.913239</td>\n",
       "      <td>0.922925</td>\n",
       "      <td>0.928926</td>\n",
       "    </tr>\n",
       "    <tr>\n",
       "      <th>14</th>\n",
       "      <td>clothing</td>\n",
       "      <td>0.982336</td>\n",
       "      <td>0.984641</td>\n",
       "      <td>0.986904</td>\n",
       "    </tr>\n",
       "    <tr>\n",
       "      <th>15</th>\n",
       "      <td>money</td>\n",
       "      <td>0.967294</td>\n",
       "      <td>0.967291</td>\n",
       "      <td>0.977622</td>\n",
       "    </tr>\n",
       "    <tr>\n",
       "      <th>16</th>\n",
       "      <td>missing_people</td>\n",
       "      <td>0.984768</td>\n",
       "      <td>0.980008</td>\n",
       "      <td>0.989574</td>\n",
       "    </tr>\n",
       "    <tr>\n",
       "      <th>17</th>\n",
       "      <td>refugees</td>\n",
       "      <td>0.957291</td>\n",
       "      <td>0.958187</td>\n",
       "      <td>0.968595</td>\n",
       "    </tr>\n",
       "    <tr>\n",
       "      <th>18</th>\n",
       "      <td>death</td>\n",
       "      <td>0.951766</td>\n",
       "      <td>0.958789</td>\n",
       "      <td>0.962873</td>\n",
       "    </tr>\n",
       "    <tr>\n",
       "      <th>19</th>\n",
       "      <td>other_aid</td>\n",
       "      <td>0.823253</td>\n",
       "      <td>0.82598</td>\n",
       "      <td>0.870184</td>\n",
       "    </tr>\n",
       "    <tr>\n",
       "      <th>20</th>\n",
       "      <td>infrastructure_related</td>\n",
       "      <td>0.902916</td>\n",
       "      <td>0.877723</td>\n",
       "      <td>0.932867</td>\n",
       "    </tr>\n",
       "    <tr>\n",
       "      <th>21</th>\n",
       "      <td>transport</td>\n",
       "      <td>0.949567</td>\n",
       "      <td>0.952524</td>\n",
       "      <td>0.962111</td>\n",
       "    </tr>\n",
       "    <tr>\n",
       "      <th>22</th>\n",
       "      <td>buildings</td>\n",
       "      <td>0.939074</td>\n",
       "      <td>0.945287</td>\n",
       "      <td>0.9541</td>\n",
       "    </tr>\n",
       "    <tr>\n",
       "      <th>23</th>\n",
       "      <td>electricity</td>\n",
       "      <td>0.972977</td>\n",
       "      <td>0.971871</td>\n",
       "      <td>0.981055</td>\n",
       "    </tr>\n",
       "    <tr>\n",
       "      <th>24</th>\n",
       "      <td>tools</td>\n",
       "      <td>0.990284</td>\n",
       "      <td>0.987073</td>\n",
       "      <td>0.993516</td>\n",
       "    </tr>\n",
       "    <tr>\n",
       "      <th>25</th>\n",
       "      <td>hospitals</td>\n",
       "      <td>0.982298</td>\n",
       "      <td>0.976491</td>\n",
       "      <td>0.988175</td>\n",
       "    </tr>\n",
       "    <tr>\n",
       "      <th>26</th>\n",
       "      <td>shops</td>\n",
       "      <td>0.994282</td>\n",
       "      <td>0.992386</td>\n",
       "      <td>0.996186</td>\n",
       "    </tr>\n",
       "    <tr>\n",
       "      <th>27</th>\n",
       "      <td>aid_centers</td>\n",
       "      <td>0.981349</td>\n",
       "      <td>0.975235</td>\n",
       "      <td>0.98754</td>\n",
       "    </tr>\n",
       "    <tr>\n",
       "      <th>28</th>\n",
       "      <td>other_infrastructure</td>\n",
       "      <td>0.937312</td>\n",
       "      <td>0.922582</td>\n",
       "      <td>0.957152</td>\n",
       "    </tr>\n",
       "    <tr>\n",
       "      <th>29</th>\n",
       "      <td>weather_related</td>\n",
       "      <td>0.846951</td>\n",
       "      <td>0.853924</td>\n",
       "      <td>0.85569</td>\n",
       "    </tr>\n",
       "    <tr>\n",
       "      <th>30</th>\n",
       "      <td>floods</td>\n",
       "      <td>0.938402</td>\n",
       "      <td>0.946385</td>\n",
       "      <td>0.948125</td>\n",
       "    </tr>\n",
       "    <tr>\n",
       "      <th>31</th>\n",
       "      <td>storm</td>\n",
       "      <td>0.929126</td>\n",
       "      <td>0.930393</td>\n",
       "      <td>0.937063</td>\n",
       "    </tr>\n",
       "    <tr>\n",
       "      <th>32</th>\n",
       "      <td>fire</td>\n",
       "      <td>0.984325</td>\n",
       "      <td>0.979256</td>\n",
       "      <td>0.989447</td>\n",
       "    </tr>\n",
       "    <tr>\n",
       "      <th>33</th>\n",
       "      <td>earthquake</td>\n",
       "      <td>0.962343</td>\n",
       "      <td>0.962619</td>\n",
       "      <td>0.964272</td>\n",
       "    </tr>\n",
       "    <tr>\n",
       "      <th>34</th>\n",
       "      <td>cold</td>\n",
       "      <td>0.973717</td>\n",
       "      <td>0.976342</td>\n",
       "      <td>0.981182</td>\n",
       "    </tr>\n",
       "    <tr>\n",
       "      <th>35</th>\n",
       "      <td>other_weather</td>\n",
       "      <td>0.922579</td>\n",
       "      <td>0.924905</td>\n",
       "      <td>0.945327</td>\n",
       "    </tr>\n",
       "    <tr>\n",
       "      <th>36</th>\n",
       "      <td>direct_report</td>\n",
       "      <td>0.82638</td>\n",
       "      <td>0.838957</td>\n",
       "      <td>0.850095</td>\n",
       "    </tr>\n",
       "  </tbody>\n",
       "</table>\n",
       "</div>"
      ],
      "text/plain": [
       "                  Category  f1_score precision    recall\n",
       "1                  related  0.784781  0.784109  0.797203\n",
       "2                  request  0.868682  0.876089  0.883789\n",
       "3                    offer  0.994219  0.992385  0.996058\n",
       "4              aid_related  0.742718  0.748956  0.748887\n",
       "5             medical_help  0.894725  0.898477  0.923458\n",
       "6         medical_products  0.934409  0.940351  0.952575\n",
       "7        search_and_rescue  0.961818  0.961417  0.973172\n",
       "8                 security  0.970852  0.961469   0.98042\n",
       "9                 military   0.96118  0.961447  0.971011\n",
       "10             child_alone         1         1         1\n",
       "11                   water   0.92276  0.933958  0.940877\n",
       "12                    food  0.914231  0.916427  0.923713\n",
       "13                 shelter  0.913239  0.922925  0.928926\n",
       "14                clothing  0.982336  0.984641  0.986904\n",
       "15                   money  0.967294  0.967291  0.977622\n",
       "16          missing_people  0.984768  0.980008  0.989574\n",
       "17                refugees  0.957291  0.958187  0.968595\n",
       "18                   death  0.951766  0.958789  0.962873\n",
       "19               other_aid  0.823253   0.82598  0.870184\n",
       "20  infrastructure_related  0.902916  0.877723  0.932867\n",
       "21               transport  0.949567  0.952524  0.962111\n",
       "22               buildings  0.939074  0.945287    0.9541\n",
       "23             electricity  0.972977  0.971871  0.981055\n",
       "24                   tools  0.990284  0.987073  0.993516\n",
       "25               hospitals  0.982298  0.976491  0.988175\n",
       "26                   shops  0.994282  0.992386  0.996186\n",
       "27             aid_centers  0.981349  0.975235   0.98754\n",
       "28    other_infrastructure  0.937312  0.922582  0.957152\n",
       "29         weather_related  0.846951  0.853924   0.85569\n",
       "30                  floods  0.938402  0.946385  0.948125\n",
       "31                   storm  0.929126  0.930393  0.937063\n",
       "32                    fire  0.984325  0.979256  0.989447\n",
       "33              earthquake  0.962343  0.962619  0.964272\n",
       "34                    cold  0.973717  0.976342  0.981182\n",
       "35           other_weather  0.922579  0.924905  0.945327\n",
       "36           direct_report   0.82638  0.838957  0.850095"
      ]
     },
     "execution_count": 23,
     "metadata": {},
     "output_type": "execute_result"
    }
   ],
   "source": [
    "results = get_results(y_test, y_pred)\n",
    "results"
   ]
  },
  {
   "cell_type": "code",
   "execution_count": 24,
   "metadata": {},
   "outputs": [],
   "source": [
    "# Calculating the proportion of each column that have label == 1\n",
    "proportion = Y.sum()/len(Y)"
   ]
  },
  {
   "cell_type": "code",
   "execution_count": 25,
   "metadata": {},
   "outputs": [
    {
     "data": {
      "text/plain": [
       "related                   0.773650\n",
       "request                   0.170659\n",
       "offer                     0.004501\n",
       "aid_related               0.414251\n",
       "medical_help              0.079493\n",
       "medical_products          0.050084\n",
       "search_and_rescue         0.027617\n",
       "security                  0.017966\n",
       "military                  0.032804\n",
       "child_alone               0.000000\n",
       "water                     0.063778\n",
       "food                      0.111497\n",
       "shelter                   0.088267\n",
       "clothing                  0.015449\n",
       "money                     0.023039\n",
       "missing_people            0.011367\n",
       "refugees                  0.033377\n",
       "death                     0.045545\n",
       "other_aid                 0.131446\n",
       "infrastructure_related    0.065037\n",
       "transport                 0.045812\n",
       "buildings                 0.050847\n",
       "electricity               0.020293\n",
       "tools                     0.006065\n",
       "hospitals                 0.010795\n",
       "shops                     0.004577\n",
       "aid_centers               0.011787\n",
       "other_infrastructure      0.043904\n",
       "weather_related           0.278341\n",
       "floods                    0.082202\n",
       "storm                     0.093187\n",
       "fire                      0.010757\n",
       "earthquake                0.093645\n",
       "cold                      0.020217\n",
       "other_weather             0.052487\n",
       "direct_report             0.193584\n",
       "dtype: float64"
      ]
     },
     "execution_count": 25,
     "metadata": {},
     "output_type": "execute_result"
    }
   ],
   "source": [
    "proportion.sort_values(ascending=True)\n",
    "proportion"
   ]
  },
  {
   "cell_type": "markdown",
   "metadata": {},
   "source": [
    "### 6. Improve your model\n",
    "Use grid search to find better parameters. "
   ]
  },
  {
   "cell_type": "code",
   "execution_count": 26,
   "metadata": {},
   "outputs": [
    {
     "data": {
      "text/plain": [
       "{'memory': None,\n",
       " 'steps': [('vect',\n",
       "   CountVectorizer(analyzer='word', binary=False, decode_error='strict',\n",
       "           dtype=<class 'numpy.int64'>, encoding='utf-8', input='content',\n",
       "           lowercase=True, max_df=1.0, max_features=None, min_df=1,\n",
       "           ngram_range=(1, 1), preprocessor=None, stop_words=None,\n",
       "           strip_accents=None, token_pattern='(?u)\\\\b\\\\w\\\\w+\\\\b',\n",
       "           tokenizer=<function tokenize at 0x7f70fb143488>, vocabulary=None)),\n",
       "  ('tfidf',\n",
       "   TfidfTransformer(norm='l2', smooth_idf=True, sublinear_tf=False, use_idf=True)),\n",
       "  ('clf',\n",
       "   MultiOutputClassifier(estimator=RandomForestClassifier(bootstrap=True, class_weight=None, criterion='gini',\n",
       "               max_depth=None, max_features='auto', max_leaf_nodes=None,\n",
       "               min_impurity_decrease=0.0, min_impurity_split=None,\n",
       "               min_samples_leaf=1, min_samples_split=2,\n",
       "               min_weight_fraction_leaf=0.0, n_estimators=10, n_jobs=1,\n",
       "               oob_score=False, random_state=None, verbose=0,\n",
       "               warm_start=False),\n",
       "              n_jobs=1))],\n",
       " 'vect': CountVectorizer(analyzer='word', binary=False, decode_error='strict',\n",
       "         dtype=<class 'numpy.int64'>, encoding='utf-8', input='content',\n",
       "         lowercase=True, max_df=1.0, max_features=None, min_df=1,\n",
       "         ngram_range=(1, 1), preprocessor=None, stop_words=None,\n",
       "         strip_accents=None, token_pattern='(?u)\\\\b\\\\w\\\\w+\\\\b',\n",
       "         tokenizer=<function tokenize at 0x7f70fb143488>, vocabulary=None),\n",
       " 'tfidf': TfidfTransformer(norm='l2', smooth_idf=True, sublinear_tf=False, use_idf=True),\n",
       " 'clf': MultiOutputClassifier(estimator=RandomForestClassifier(bootstrap=True, class_weight=None, criterion='gini',\n",
       "             max_depth=None, max_features='auto', max_leaf_nodes=None,\n",
       "             min_impurity_decrease=0.0, min_impurity_split=None,\n",
       "             min_samples_leaf=1, min_samples_split=2,\n",
       "             min_weight_fraction_leaf=0.0, n_estimators=10, n_jobs=1,\n",
       "             oob_score=False, random_state=None, verbose=0,\n",
       "             warm_start=False),\n",
       "            n_jobs=1),\n",
       " 'vect__analyzer': 'word',\n",
       " 'vect__binary': False,\n",
       " 'vect__decode_error': 'strict',\n",
       " 'vect__dtype': numpy.int64,\n",
       " 'vect__encoding': 'utf-8',\n",
       " 'vect__input': 'content',\n",
       " 'vect__lowercase': True,\n",
       " 'vect__max_df': 1.0,\n",
       " 'vect__max_features': None,\n",
       " 'vect__min_df': 1,\n",
       " 'vect__ngram_range': (1, 1),\n",
       " 'vect__preprocessor': None,\n",
       " 'vect__stop_words': None,\n",
       " 'vect__strip_accents': None,\n",
       " 'vect__token_pattern': '(?u)\\\\b\\\\w\\\\w+\\\\b',\n",
       " 'vect__tokenizer': <function __main__.tokenize(text)>,\n",
       " 'vect__vocabulary': None,\n",
       " 'tfidf__norm': 'l2',\n",
       " 'tfidf__smooth_idf': True,\n",
       " 'tfidf__sublinear_tf': False,\n",
       " 'tfidf__use_idf': True,\n",
       " 'clf__estimator__bootstrap': True,\n",
       " 'clf__estimator__class_weight': None,\n",
       " 'clf__estimator__criterion': 'gini',\n",
       " 'clf__estimator__max_depth': None,\n",
       " 'clf__estimator__max_features': 'auto',\n",
       " 'clf__estimator__max_leaf_nodes': None,\n",
       " 'clf__estimator__min_impurity_decrease': 0.0,\n",
       " 'clf__estimator__min_impurity_split': None,\n",
       " 'clf__estimator__min_samples_leaf': 1,\n",
       " 'clf__estimator__min_samples_split': 2,\n",
       " 'clf__estimator__min_weight_fraction_leaf': 0.0,\n",
       " 'clf__estimator__n_estimators': 10,\n",
       " 'clf__estimator__n_jobs': 1,\n",
       " 'clf__estimator__oob_score': False,\n",
       " 'clf__estimator__random_state': None,\n",
       " 'clf__estimator__verbose': 0,\n",
       " 'clf__estimator__warm_start': False,\n",
       " 'clf__estimator': RandomForestClassifier(bootstrap=True, class_weight=None, criterion='gini',\n",
       "             max_depth=None, max_features='auto', max_leaf_nodes=None,\n",
       "             min_impurity_decrease=0.0, min_impurity_split=None,\n",
       "             min_samples_leaf=1, min_samples_split=2,\n",
       "             min_weight_fraction_leaf=0.0, n_estimators=10, n_jobs=1,\n",
       "             oob_score=False, random_state=None, verbose=0,\n",
       "             warm_start=False),\n",
       " 'clf__n_jobs': 1}"
      ]
     },
     "execution_count": 26,
     "metadata": {},
     "output_type": "execute_result"
    }
   ],
   "source": [
    "pipeline.get_params()"
   ]
  },
  {
   "cell_type": "code",
   "execution_count": 27,
   "metadata": {},
   "outputs": [],
   "source": [
    "# Defining median F1_score\n",
    "def performance_metric(y_true, y_pred):\n",
    "    \"\"\"Calculate median F1 score for all of the output classifiers\n",
    "    \n",
    "    Args:\n",
    "    y_true: array. Array containing actual labels.\n",
    "    y_pred: array. Array containing predicted labels.\n",
    "        \n",
    "    Returns:\n",
    "    score: float. Median F1 score for all of the output classifiers\n",
    "    \"\"\"\n",
    "    f1_list = []\n",
    "    for i in range(np.shape(y_pred)[1]):\n",
    "        f1 = f1_score(np.array(y_true)[:, i], y_pred[:, i],average='micro')\n",
    "        f1_list.append(f1)\n",
    "        \n",
    "    score = np.median(f1_list)\n",
    "    return score"
   ]
  },
  {
   "cell_type": "code",
   "execution_count": 28,
   "metadata": {},
   "outputs": [
    {
     "name": "stdout",
     "output_type": "stream",
     "text": [
      "Fitting 3 folds for each of 2 candidates, totalling 6 fits\n",
      "[CV] clf__estimator__n_estimators=10 .................................\n",
      "[CV]  clf__estimator__n_estimators=10, score=0.9567598495994769, total=  44.4s\n",
      "[CV] clf__estimator__n_estimators=10 .................................\n"
     ]
    },
    {
     "name": "stderr",
     "output_type": "stream",
     "text": [
      "[Parallel(n_jobs=1)]: Done   1 out of   1 | elapsed:   55.1s remaining:    0.0s\n"
     ]
    },
    {
     "name": "stdout",
     "output_type": "stream",
     "text": [
      "[CV]  clf__estimator__n_estimators=10, score=0.9593755108713422, total=  45.1s\n",
      "[CV] clf__estimator__n_estimators=10 .................................\n"
     ]
    },
    {
     "name": "stderr",
     "output_type": "stream",
     "text": [
      "[Parallel(n_jobs=1)]: Done   2 out of   2 | elapsed:  1.8min remaining:    0.0s\n"
     ]
    },
    {
     "name": "stdout",
     "output_type": "stream",
     "text": [
      "[CV]  clf__estimator__n_estimators=10, score=0.9570050678437142, total=  45.1s\n",
      "[CV] clf__estimator__n_estimators=25 .................................\n"
     ]
    },
    {
     "name": "stderr",
     "output_type": "stream",
     "text": [
      "[Parallel(n_jobs=1)]: Done   3 out of   3 | elapsed:  2.8min remaining:    0.0s\n"
     ]
    },
    {
     "name": "stdout",
     "output_type": "stream",
     "text": [
      "[CV]  clf__estimator__n_estimators=25, score=0.9555337583782899, total= 1.6min\n",
      "[CV] clf__estimator__n_estimators=25 .................................\n"
     ]
    },
    {
     "name": "stderr",
     "output_type": "stream",
     "text": [
      "[Parallel(n_jobs=1)]: Done   4 out of   4 | elapsed:  4.6min remaining:    0.0s\n"
     ]
    },
    {
     "name": "stdout",
     "output_type": "stream",
     "text": [
      "[CV]  clf__estimator__n_estimators=25, score=0.9659964034657511, total= 1.6min\n",
      "[CV] clf__estimator__n_estimators=25 .................................\n"
     ]
    },
    {
     "name": "stderr",
     "output_type": "stream",
     "text": [
      "[Parallel(n_jobs=1)]: Done   5 out of   5 | elapsed:  6.5min remaining:    0.0s\n"
     ]
    },
    {
     "name": "stdout",
     "output_type": "stream",
     "text": [
      "[CV]  clf__estimator__n_estimators=25, score=0.9581494196501552, total= 1.6min\n"
     ]
    },
    {
     "name": "stderr",
     "output_type": "stream",
     "text": [
      "[Parallel(n_jobs=1)]: Done   6 out of   6 | elapsed:  8.3min remaining:    0.0s\n",
      "[Parallel(n_jobs=1)]: Done   6 out of   6 | elapsed:  8.3min finished\n"
     ]
    }
   ],
   "source": [
    "# Creating grid search\n",
    "\n",
    "#this was the orginal set and it was taking a lot of time, hence, reduced the parameter space\n",
    "#\n",
    "#parameters = {'vect__min_df': [1, 5],\n",
    "#             'tfidf__use_idf':[True, False],\n",
    "#             'clf__estimator__n_estimators':[10, 25], \n",
    "#              'clf__estimator__min_samples_split':[2, 5, 10],\n",
    "#              'clf__estimator__max_depth': [5, 10, None]\n",
    "#             }\n",
    "#\n",
    "\n",
    "\n",
    "\n",
    "\n",
    "parameters = {\n",
    "              'clf__estimator__n_estimators':[10, 25]\n",
    "             }\n",
    "\n",
    "scorer = make_scorer(performance_metric)\n",
    "cv = GridSearchCV(pipeline, param_grid = parameters, scoring = scorer, verbose = 10)\n",
    "\n",
    "# best parameters\n",
    "tuned_model = cv.fit(X_train, y_train)"
   ]
  },
  {
   "cell_type": "code",
   "execution_count": 29,
   "metadata": {},
   "outputs": [
    {
     "name": "stderr",
     "output_type": "stream",
     "text": [
      "/opt/conda/lib/python3.6/site-packages/sklearn/utils/deprecation.py:122: FutureWarning: You are accessing a training score ('split0_train_score'), which will not be available by default any more in 0.21. If you need training scores, please set return_train_score=True\n",
      "  warnings.warn(*warn_args, **warn_kwargs)\n",
      "/opt/conda/lib/python3.6/site-packages/sklearn/utils/deprecation.py:122: FutureWarning: You are accessing a training score ('split1_train_score'), which will not be available by default any more in 0.21. If you need training scores, please set return_train_score=True\n",
      "  warnings.warn(*warn_args, **warn_kwargs)\n",
      "/opt/conda/lib/python3.6/site-packages/sklearn/utils/deprecation.py:122: FutureWarning: You are accessing a training score ('split2_train_score'), which will not be available by default any more in 0.21. If you need training scores, please set return_train_score=True\n",
      "  warnings.warn(*warn_args, **warn_kwargs)\n",
      "/opt/conda/lib/python3.6/site-packages/sklearn/utils/deprecation.py:122: FutureWarning: You are accessing a training score ('mean_train_score'), which will not be available by default any more in 0.21. If you need training scores, please set return_train_score=True\n",
      "  warnings.warn(*warn_args, **warn_kwargs)\n",
      "/opt/conda/lib/python3.6/site-packages/sklearn/utils/deprecation.py:122: FutureWarning: You are accessing a training score ('std_train_score'), which will not be available by default any more in 0.21. If you need training scores, please set return_train_score=True\n",
      "  warnings.warn(*warn_args, **warn_kwargs)\n"
     ]
    },
    {
     "data": {
      "text/plain": [
       "{'mean_fit_time': array([ 39.52815056,  87.41527526]),\n",
       " 'std_fit_time': array([ 0.3354358 ,  0.62620234]),\n",
       " 'mean_score_time': array([ 5.3518184 ,  7.86026144]),\n",
       " 'std_score_time': array([ 0.03889965,  0.07306144]),\n",
       " 'param_clf__estimator__n_estimators': masked_array(data = [10 25],\n",
       "              mask = [False False],\n",
       "        fill_value = ?),\n",
       " 'params': [{'clf__estimator__n_estimators': 10},\n",
       "  {'clf__estimator__n_estimators': 25}],\n",
       " 'split0_test_score': array([ 0.95675985,  0.95553376]),\n",
       " 'split1_test_score': array([ 0.95937551,  0.9659964 ]),\n",
       " 'split2_test_score': array([ 0.95700507,  0.95814942]),\n",
       " 'mean_test_score': array([ 0.95771348,  0.95989319]),\n",
       " 'std_test_score': array([ 0.00117949,  0.00444577]),\n",
       " 'rank_test_score': array([2, 1], dtype=int32),\n",
       " 'split0_train_score': array([ 0.99423737,  0.99877391]),\n",
       " 'split1_train_score': array([ 0.99341998,  0.99869217]),\n",
       " 'split2_train_score': array([ 0.99354259,  0.9986513 ]),\n",
       " 'mean_train_score': array([ 0.99373331,  0.99870579]),\n",
       " 'std_train_score': array([  3.59921661e-04,   5.09734808e-05])}"
      ]
     },
     "execution_count": 29,
     "metadata": {},
     "output_type": "execute_result"
    }
   ],
   "source": [
    "# Results of grid search\n",
    "tuned_model.cv_results_"
   ]
  },
  {
   "cell_type": "code",
   "execution_count": 30,
   "metadata": {},
   "outputs": [
    {
     "data": {
      "text/plain": [
       "{'clf__estimator__n_estimators': 25}"
      ]
     },
     "execution_count": 30,
     "metadata": {},
     "output_type": "execute_result"
    }
   ],
   "source": [
    "# Parameters for best test score\n",
    "tuned_model.best_params_"
   ]
  },
  {
   "cell_type": "markdown",
   "metadata": {},
   "source": [
    "### 7. Test your model\n",
    "Show the accuracy, precision, and recall of the tuned model.  \n",
    "\n",
    "Since this project focuses on code quality, process, and  pipelines, there is no minimum performance metric needed to pass. However, make sure to fine tune your models for accuracy, precision and recall to make your project stand out - especially for your portfolio!"
   ]
  },
  {
   "cell_type": "code",
   "execution_count": 31,
   "metadata": {},
   "outputs": [
    {
     "name": "stderr",
     "output_type": "stream",
     "text": [
      "/opt/conda/lib/python3.6/site-packages/ipykernel_launcher.py:2: FutureWarning: Method .as_matrix will be removed in a future version. Use .values instead.\n",
      "  \n"
     ]
    },
    {
     "name": "stdout",
     "output_type": "stream",
     "text": [
      "Fitting 3 folds for each of 2 candidates, totalling 6 fits\n",
      "[CV] clf__estimator__n_estimators=10 .................................\n",
      "[CV]  clf__estimator__n_estimators=10, score=0.9538172306686283, total=  44.6s\n",
      "[CV] clf__estimator__n_estimators=10 .................................\n"
     ]
    },
    {
     "name": "stderr",
     "output_type": "stream",
     "text": [
      "[Parallel(n_jobs=1)]: Done   1 out of   1 | elapsed:   55.3s remaining:    0.0s\n"
     ]
    },
    {
     "name": "stdout",
     "output_type": "stream",
     "text": [
      "[CV]  clf__estimator__n_estimators=10, score=0.9578224619911722, total=  45.0s\n",
      "[CV] clf__estimator__n_estimators=10 .................................\n"
     ]
    },
    {
     "name": "stderr",
     "output_type": "stream",
     "text": [
      "[Parallel(n_jobs=1)]: Done   2 out of   2 | elapsed:  1.9min remaining:    0.0s\n"
     ]
    },
    {
     "name": "stdout",
     "output_type": "stream",
     "text": [
      "[CV]  clf__estimator__n_estimators=10, score=0.9580676802354096, total=  45.3s\n",
      "[CV] clf__estimator__n_estimators=25 .................................\n"
     ]
    },
    {
     "name": "stderr",
     "output_type": "stream",
     "text": [
      "[Parallel(n_jobs=1)]: Done   3 out of   3 | elapsed:  2.8min remaining:    0.0s\n"
     ]
    },
    {
     "name": "stdout",
     "output_type": "stream",
     "text": [
      "[CV]  clf__estimator__n_estimators=25, score=0.9569233284289684, total= 1.6min\n",
      "[CV] clf__estimator__n_estimators=25 .................................\n"
     ]
    },
    {
     "name": "stderr",
     "output_type": "stream",
     "text": [
      "[Parallel(n_jobs=1)]: Done   4 out of   4 | elapsed:  4.6min remaining:    0.0s\n"
     ]
    },
    {
     "name": "stdout",
     "output_type": "stream",
     "text": [
      "[CV]  clf__estimator__n_estimators=25, score=0.9632172633643943, total= 1.6min\n",
      "[CV] clf__estimator__n_estimators=25 .................................\n"
     ]
    },
    {
     "name": "stderr",
     "output_type": "stream",
     "text": [
      "[Parallel(n_jobs=1)]: Done   5 out of   5 | elapsed:  6.5min remaining:    0.0s\n"
     ]
    },
    {
     "name": "stdout",
     "output_type": "stream",
     "text": [
      "[CV]  clf__estimator__n_estimators=25, score=0.9591302926271048, total= 1.6min\n"
     ]
    },
    {
     "name": "stderr",
     "output_type": "stream",
     "text": [
      "[Parallel(n_jobs=1)]: Done   6 out of   6 | elapsed:  8.3min remaining:    0.0s\n",
      "[Parallel(n_jobs=1)]: Done   6 out of   6 | elapsed:  8.3min finished\n"
     ]
    },
    {
     "name": "stdout",
     "output_type": "stream",
     "text": [
      "f1_score: 0.936203844568\n",
      "precision: 0.937830101694\n",
      "recall: 0.947566574839\n"
     ]
    },
    {
     "name": "stderr",
     "output_type": "stream",
     "text": [
      "/opt/conda/lib/python3.6/site-packages/ipykernel_launcher.py:7: FutureWarning: set_value is deprecated and will be removed in a future release. Please use .at[] or .iat[] accessors instead\n",
      "  import sys\n",
      "/opt/conda/lib/python3.6/site-packages/ipykernel_launcher.py:8: FutureWarning: set_value is deprecated and will be removed in a future release. Please use .at[] or .iat[] accessors instead\n",
      "  \n",
      "/opt/conda/lib/python3.6/site-packages/ipykernel_launcher.py:9: FutureWarning: set_value is deprecated and will be removed in a future release. Please use .at[] or .iat[] accessors instead\n",
      "  if __name__ == '__main__':\n",
      "/opt/conda/lib/python3.6/site-packages/ipykernel_launcher.py:10: FutureWarning: set_value is deprecated and will be removed in a future release. Please use .at[] or .iat[] accessors instead\n",
      "  # Remove the CWD from sys.path while we load stuff.\n",
      "/opt/conda/lib/python3.6/site-packages/sklearn/metrics/classification.py:1135: UndefinedMetricWarning: Precision and F-score are ill-defined and being set to 0.0 in labels with no predicted samples.\n",
      "  'precision', 'predicted', average, warn_for)\n"
     ]
    },
    {
     "data": {
      "text/html": [
       "<div>\n",
       "<style scoped>\n",
       "    .dataframe tbody tr th:only-of-type {\n",
       "        vertical-align: middle;\n",
       "    }\n",
       "\n",
       "    .dataframe tbody tr th {\n",
       "        vertical-align: top;\n",
       "    }\n",
       "\n",
       "    .dataframe thead th {\n",
       "        text-align: right;\n",
       "    }\n",
       "</style>\n",
       "<table border=\"1\" class=\"dataframe\">\n",
       "  <thead>\n",
       "    <tr style=\"text-align: right;\">\n",
       "      <th></th>\n",
       "      <th>Category</th>\n",
       "      <th>f1_score</th>\n",
       "      <th>precision</th>\n",
       "      <th>recall</th>\n",
       "    </tr>\n",
       "  </thead>\n",
       "  <tbody>\n",
       "    <tr>\n",
       "      <th>1</th>\n",
       "      <td>related</td>\n",
       "      <td>0.78308</td>\n",
       "      <td>0.788917</td>\n",
       "      <td>0.802543</td>\n",
       "    </tr>\n",
       "    <tr>\n",
       "      <th>2</th>\n",
       "      <td>request</td>\n",
       "      <td>0.884946</td>\n",
       "      <td>0.886599</td>\n",
       "      <td>0.893833</td>\n",
       "    </tr>\n",
       "    <tr>\n",
       "      <th>3</th>\n",
       "      <td>offer</td>\n",
       "      <td>0.994282</td>\n",
       "      <td>0.992386</td>\n",
       "      <td>0.996186</td>\n",
       "    </tr>\n",
       "    <tr>\n",
       "      <th>4</th>\n",
       "      <td>aid_related</td>\n",
       "      <td>0.7706</td>\n",
       "      <td>0.770293</td>\n",
       "      <td>0.771392</td>\n",
       "    </tr>\n",
       "    <tr>\n",
       "      <th>5</th>\n",
       "      <td>medical_help</td>\n",
       "      <td>0.899741</td>\n",
       "      <td>0.903793</td>\n",
       "      <td>0.924984</td>\n",
       "    </tr>\n",
       "    <tr>\n",
       "      <th>6</th>\n",
       "      <td>medical_products</td>\n",
       "      <td>0.936271</td>\n",
       "      <td>0.945079</td>\n",
       "      <td>0.953719</td>\n",
       "    </tr>\n",
       "    <tr>\n",
       "      <th>7</th>\n",
       "      <td>search_and_rescue</td>\n",
       "      <td>0.962811</td>\n",
       "      <td>0.963113</td>\n",
       "      <td>0.973427</td>\n",
       "    </tr>\n",
       "    <tr>\n",
       "      <th>8</th>\n",
       "      <td>security</td>\n",
       "      <td>0.970916</td>\n",
       "      <td>0.961472</td>\n",
       "      <td>0.980547</td>\n",
       "    </tr>\n",
       "    <tr>\n",
       "      <th>9</th>\n",
       "      <td>military</td>\n",
       "      <td>0.961946</td>\n",
       "      <td>0.963535</td>\n",
       "      <td>0.971647</td>\n",
       "    </tr>\n",
       "    <tr>\n",
       "      <th>10</th>\n",
       "      <td>child_alone</td>\n",
       "      <td>1</td>\n",
       "      <td>1</td>\n",
       "      <td>1</td>\n",
       "    </tr>\n",
       "    <tr>\n",
       "      <th>11</th>\n",
       "      <td>water</td>\n",
       "      <td>0.937503</td>\n",
       "      <td>0.944961</td>\n",
       "      <td>0.949015</td>\n",
       "    </tr>\n",
       "    <tr>\n",
       "      <th>12</th>\n",
       "      <td>food</td>\n",
       "      <td>0.938564</td>\n",
       "      <td>0.937842</td>\n",
       "      <td>0.941259</td>\n",
       "    </tr>\n",
       "    <tr>\n",
       "      <th>13</th>\n",
       "      <td>shelter</td>\n",
       "      <td>0.91344</td>\n",
       "      <td>0.922666</td>\n",
       "      <td>0.928926</td>\n",
       "    </tr>\n",
       "    <tr>\n",
       "      <th>14</th>\n",
       "      <td>clothing</td>\n",
       "      <td>0.98293</td>\n",
       "      <td>0.985726</td>\n",
       "      <td>0.987285</td>\n",
       "    </tr>\n",
       "    <tr>\n",
       "      <th>15</th>\n",
       "      <td>money</td>\n",
       "      <td>0.967294</td>\n",
       "      <td>0.967291</td>\n",
       "      <td>0.977622</td>\n",
       "    </tr>\n",
       "    <tr>\n",
       "      <th>16</th>\n",
       "      <td>missing_people</td>\n",
       "      <td>0.985206</td>\n",
       "      <td>0.985158</td>\n",
       "      <td>0.989955</td>\n",
       "    </tr>\n",
       "    <tr>\n",
       "      <th>17</th>\n",
       "      <td>refugees</td>\n",
       "      <td>0.954376</td>\n",
       "      <td>0.956615</td>\n",
       "      <td>0.968086</td>\n",
       "    </tr>\n",
       "    <tr>\n",
       "      <th>18</th>\n",
       "      <td>death</td>\n",
       "      <td>0.9523</td>\n",
       "      <td>0.955977</td>\n",
       "      <td>0.962365</td>\n",
       "    </tr>\n",
       "    <tr>\n",
       "      <th>19</th>\n",
       "      <td>other_aid</td>\n",
       "      <td>0.818509</td>\n",
       "      <td>0.827431</td>\n",
       "      <td>0.87082</td>\n",
       "    </tr>\n",
       "    <tr>\n",
       "      <th>20</th>\n",
       "      <td>infrastructure_related</td>\n",
       "      <td>0.904123</td>\n",
       "      <td>0.893227</td>\n",
       "      <td>0.934774</td>\n",
       "    </tr>\n",
       "    <tr>\n",
       "      <th>21</th>\n",
       "      <td>transport</td>\n",
       "      <td>0.949063</td>\n",
       "      <td>0.954241</td>\n",
       "      <td>0.962365</td>\n",
       "    </tr>\n",
       "    <tr>\n",
       "      <th>22</th>\n",
       "      <td>buildings</td>\n",
       "      <td>0.939996</td>\n",
       "      <td>0.947113</td>\n",
       "      <td>0.954736</td>\n",
       "    </tr>\n",
       "    <tr>\n",
       "      <th>23</th>\n",
       "      <td>electricity</td>\n",
       "      <td>0.97399</td>\n",
       "      <td>0.976235</td>\n",
       "      <td>0.981691</td>\n",
       "    </tr>\n",
       "    <tr>\n",
       "      <th>24</th>\n",
       "      <td>tools</td>\n",
       "      <td>0.99022</td>\n",
       "      <td>0.987072</td>\n",
       "      <td>0.993388</td>\n",
       "    </tr>\n",
       "    <tr>\n",
       "      <th>25</th>\n",
       "      <td>hospitals</td>\n",
       "      <td>0.982298</td>\n",
       "      <td>0.976491</td>\n",
       "      <td>0.988175</td>\n",
       "    </tr>\n",
       "    <tr>\n",
       "      <th>26</th>\n",
       "      <td>shops</td>\n",
       "      <td>0.994282</td>\n",
       "      <td>0.992386</td>\n",
       "      <td>0.996186</td>\n",
       "    </tr>\n",
       "    <tr>\n",
       "      <th>27</th>\n",
       "      <td>aid_centers</td>\n",
       "      <td>0.981349</td>\n",
       "      <td>0.975235</td>\n",
       "      <td>0.98754</td>\n",
       "    </tr>\n",
       "    <tr>\n",
       "      <th>28</th>\n",
       "      <td>other_infrastructure</td>\n",
       "      <td>0.937634</td>\n",
       "      <td>0.928435</td>\n",
       "      <td>0.957788</td>\n",
       "    </tr>\n",
       "    <tr>\n",
       "      <th>29</th>\n",
       "      <td>weather_related</td>\n",
       "      <td>0.873739</td>\n",
       "      <td>0.876022</td>\n",
       "      <td>0.878195</td>\n",
       "    </tr>\n",
       "    <tr>\n",
       "      <th>30</th>\n",
       "      <td>floods</td>\n",
       "      <td>0.941638</td>\n",
       "      <td>0.947801</td>\n",
       "      <td>0.950032</td>\n",
       "    </tr>\n",
       "    <tr>\n",
       "      <th>31</th>\n",
       "      <td>storm</td>\n",
       "      <td>0.931959</td>\n",
       "      <td>0.932445</td>\n",
       "      <td>0.938716</td>\n",
       "    </tr>\n",
       "    <tr>\n",
       "      <th>32</th>\n",
       "      <td>fire</td>\n",
       "      <td>0.984941</td>\n",
       "      <td>0.986455</td>\n",
       "      <td>0.989701</td>\n",
       "    </tr>\n",
       "    <tr>\n",
       "      <th>33</th>\n",
       "      <td>earthquake</td>\n",
       "      <td>0.970245</td>\n",
       "      <td>0.970127</td>\n",
       "      <td>0.971138</td>\n",
       "    </tr>\n",
       "    <tr>\n",
       "      <th>34</th>\n",
       "      <td>cold</td>\n",
       "      <td>0.973031</td>\n",
       "      <td>0.976848</td>\n",
       "      <td>0.981055</td>\n",
       "    </tr>\n",
       "    <tr>\n",
       "      <th>35</th>\n",
       "      <td>other_weather</td>\n",
       "      <td>0.922428</td>\n",
       "      <td>0.935888</td>\n",
       "      <td>0.946217</td>\n",
       "    </tr>\n",
       "    <tr>\n",
       "      <th>36</th>\n",
       "      <td>direct_report</td>\n",
       "      <td>0.837686</td>\n",
       "      <td>0.847011</td>\n",
       "      <td>0.857088</td>\n",
       "    </tr>\n",
       "  </tbody>\n",
       "</table>\n",
       "</div>"
      ],
      "text/plain": [
       "                  Category  f1_score precision    recall\n",
       "1                  related   0.78308  0.788917  0.802543\n",
       "2                  request  0.884946  0.886599  0.893833\n",
       "3                    offer  0.994282  0.992386  0.996186\n",
       "4              aid_related    0.7706  0.770293  0.771392\n",
       "5             medical_help  0.899741  0.903793  0.924984\n",
       "6         medical_products  0.936271  0.945079  0.953719\n",
       "7        search_and_rescue  0.962811  0.963113  0.973427\n",
       "8                 security  0.970916  0.961472  0.980547\n",
       "9                 military  0.961946  0.963535  0.971647\n",
       "10             child_alone         1         1         1\n",
       "11                   water  0.937503  0.944961  0.949015\n",
       "12                    food  0.938564  0.937842  0.941259\n",
       "13                 shelter   0.91344  0.922666  0.928926\n",
       "14                clothing   0.98293  0.985726  0.987285\n",
       "15                   money  0.967294  0.967291  0.977622\n",
       "16          missing_people  0.985206  0.985158  0.989955\n",
       "17                refugees  0.954376  0.956615  0.968086\n",
       "18                   death    0.9523  0.955977  0.962365\n",
       "19               other_aid  0.818509  0.827431   0.87082\n",
       "20  infrastructure_related  0.904123  0.893227  0.934774\n",
       "21               transport  0.949063  0.954241  0.962365\n",
       "22               buildings  0.939996  0.947113  0.954736\n",
       "23             electricity   0.97399  0.976235  0.981691\n",
       "24                   tools   0.99022  0.987072  0.993388\n",
       "25               hospitals  0.982298  0.976491  0.988175\n",
       "26                   shops  0.994282  0.992386  0.996186\n",
       "27             aid_centers  0.981349  0.975235   0.98754\n",
       "28    other_infrastructure  0.937634  0.928435  0.957788\n",
       "29         weather_related  0.873739  0.876022  0.878195\n",
       "30                  floods  0.941638  0.947801  0.950032\n",
       "31                   storm  0.931959  0.932445  0.938716\n",
       "32                    fire  0.984941  0.986455  0.989701\n",
       "33              earthquake  0.970245  0.970127  0.971138\n",
       "34                    cold  0.973031  0.976848  0.981055\n",
       "35           other_weather  0.922428  0.935888  0.946217\n",
       "36           direct_report  0.837686  0.847011  0.857088"
      ]
     },
     "execution_count": 31,
     "metadata": {},
     "output_type": "execute_result"
    }
   ],
   "source": [
    "# testing the model\n",
    "cv.fit(X_train.as_matrix(), y_train.as_matrix())\n",
    "y_pred = cv.predict(X_test)\n",
    "results2 = get_results(y_test, y_pred)\n",
    "results2"
   ]
  },
  {
   "cell_type": "code",
   "execution_count": 32,
   "metadata": {},
   "outputs": [
    {
     "data": {
      "text/plain": [
       "Category     relatedrequestofferaid_relatedmedical_helpmedi...\n",
       "f1_score                                               33.7033\n",
       "precision                                              33.7619\n",
       "recall                                                 34.1124\n",
       "dtype: object"
      ]
     },
     "execution_count": 32,
     "metadata": {},
     "output_type": "execute_result"
    }
   ],
   "source": [
    "# Get summary stats for first model\n",
    "results2.sum()"
   ]
  },
  {
   "cell_type": "markdown",
   "metadata": {},
   "source": [
    "### 8. Try improving your model further. Here are a few ideas:\n",
    "* try other machine learning algorithms\n",
    "* add other features besides the TF-IDF"
   ]
  },
  {
   "cell_type": "code",
   "execution_count": 33,
   "metadata": {},
   "outputs": [],
   "source": [
    "# Creating a pipeline with Classifier\n",
    "pipeline_enhance = Pipeline([\n",
    "    ('vect', CountVectorizer(tokenizer = tokenize)),\n",
    "    ('tfidf', TfidfTransformer()),\n",
    "    ('clf',MultiOutputClassifier(AdaBoostClassifier()))\n",
    "])"
   ]
  },
  {
   "cell_type": "code",
   "execution_count": 35,
   "metadata": {},
   "outputs": [
    {
     "name": "stdout",
     "output_type": "stream",
     "text": [
      "Fitting 3 folds for each of 2 candidates, totalling 6 fits\n",
      "[CV] clf__estimator__n_estimators=10 .................................\n",
      "[CV]  clf__estimator__n_estimators=10, score=0.9608468203367664, total=  22.5s\n",
      "[CV] clf__estimator__n_estimators=10 .................................\n"
     ]
    },
    {
     "name": "stderr",
     "output_type": "stream",
     "text": [
      "[Parallel(n_jobs=1)]: Done   1 out of   1 | elapsed:   30.5s remaining:    0.0s\n"
     ]
    },
    {
     "name": "stdout",
     "output_type": "stream",
     "text": [
      "[CV]  clf__estimator__n_estimators=10, score=0.9651790093182933, total=  22.5s\n",
      "[CV] clf__estimator__n_estimators=10 .................................\n"
     ]
    },
    {
     "name": "stderr",
     "output_type": "stream",
     "text": [
      "[Parallel(n_jobs=1)]: Done   2 out of   2 | elapsed:  1.0min remaining:    0.0s\n"
     ]
    },
    {
     "name": "stdout",
     "output_type": "stream",
     "text": [
      "[CV]  clf__estimator__n_estimators=10, score=0.9632172633643943, total=  22.5s\n",
      "[CV] clf__estimator__n_estimators=25 .................................\n"
     ]
    },
    {
     "name": "stderr",
     "output_type": "stream",
     "text": [
      "[Parallel(n_jobs=1)]: Done   3 out of   3 | elapsed:  1.5min remaining:    0.0s\n"
     ]
    },
    {
     "name": "stdout",
     "output_type": "stream",
     "text": [
      "[CV]  clf__estimator__n_estimators=25, score=0.9629720451201569, total=  39.3s\n",
      "[CV] clf__estimator__n_estimators=25 .................................\n"
     ]
    },
    {
     "name": "stderr",
     "output_type": "stream",
     "text": [
      "[Parallel(n_jobs=1)]: Done   4 out of   4 | elapsed:  2.3min remaining:    0.0s\n"
     ]
    },
    {
     "name": "stdout",
     "output_type": "stream",
     "text": [
      "[CV]  clf__estimator__n_estimators=25, score=0.9650155304888017, total=  39.9s\n",
      "[CV] clf__estimator__n_estimators=25 .................................\n"
     ]
    },
    {
     "name": "stderr",
     "output_type": "stream",
     "text": [
      "[Parallel(n_jobs=1)]: Done   5 out of   5 | elapsed:  3.2min remaining:    0.0s\n"
     ]
    },
    {
     "name": "stdout",
     "output_type": "stream",
     "text": [
      "[CV]  clf__estimator__n_estimators=25, score=0.9645250940003269, total=  39.5s\n"
     ]
    },
    {
     "name": "stderr",
     "output_type": "stream",
     "text": [
      "[Parallel(n_jobs=1)]: Done   6 out of   6 | elapsed:  4.0min remaining:    0.0s\n",
      "[Parallel(n_jobs=1)]: Done   6 out of   6 | elapsed:  4.0min finished\n"
     ]
    }
   ],
   "source": [
    "#Defining new parameters\n",
    "\n",
    "parameters_enhance = {\n",
    "                      'clf__estimator__n_estimators':[10, 25]\n",
    "                     }\n",
    "\n",
    "scorer_enhance = make_scorer(performance_metric)\n",
    "cv_enhance = GridSearchCV(pipeline_enhance, param_grid = parameters_enhance, scoring = scorer_enhance, verbose = 10)\n",
    "\n",
    "# best parameters\n",
    "tuned_model_enhance = cv_enhance.fit(X_train, y_train)\n"
   ]
  },
  {
   "cell_type": "code",
   "execution_count": 37,
   "metadata": {},
   "outputs": [
    {
     "name": "stderr",
     "output_type": "stream",
     "text": [
      "/opt/conda/lib/python3.6/site-packages/sklearn/utils/deprecation.py:122: FutureWarning: You are accessing a training score ('split0_train_score'), which will not be available by default any more in 0.21. If you need training scores, please set return_train_score=True\n",
      "  warnings.warn(*warn_args, **warn_kwargs)\n",
      "/opt/conda/lib/python3.6/site-packages/sklearn/utils/deprecation.py:122: FutureWarning: You are accessing a training score ('split1_train_score'), which will not be available by default any more in 0.21. If you need training scores, please set return_train_score=True\n",
      "  warnings.warn(*warn_args, **warn_kwargs)\n",
      "/opt/conda/lib/python3.6/site-packages/sklearn/utils/deprecation.py:122: FutureWarning: You are accessing a training score ('split2_train_score'), which will not be available by default any more in 0.21. If you need training scores, please set return_train_score=True\n",
      "  warnings.warn(*warn_args, **warn_kwargs)\n",
      "/opt/conda/lib/python3.6/site-packages/sklearn/utils/deprecation.py:122: FutureWarning: You are accessing a training score ('mean_train_score'), which will not be available by default any more in 0.21. If you need training scores, please set return_train_score=True\n",
      "  warnings.warn(*warn_args, **warn_kwargs)\n",
      "/opt/conda/lib/python3.6/site-packages/sklearn/utils/deprecation.py:122: FutureWarning: You are accessing a training score ('std_train_score'), which will not be available by default any more in 0.21. If you need training scores, please set return_train_score=True\n",
      "  warnings.warn(*warn_args, **warn_kwargs)\n"
     ]
    },
    {
     "data": {
      "text/plain": [
       "{'mean_fit_time': array([ 18.46024323,  35.00510653]),\n",
       " 'std_fit_time': array([ 0.04831694,  0.29728271]),\n",
       " 'mean_score_time': array([ 4.0346458,  4.5659682]),\n",
       " 'std_score_time': array([ 0.02671442,  0.0450056 ]),\n",
       " 'param_clf__estimator__n_estimators': masked_array(data = [10 25],\n",
       "              mask = [False False],\n",
       "        fill_value = ?),\n",
       " 'params': [{'clf__estimator__n_estimators': 10},\n",
       "  {'clf__estimator__n_estimators': 25}],\n",
       " 'split0_test_score': array([ 0.96084682,  0.96297205]),\n",
       " 'split1_test_score': array([ 0.96517901,  0.96501553]),\n",
       " 'split2_test_score': array([ 0.96321726,  0.96452509]),\n",
       " 'mean_test_score': array([ 0.96308103,  0.96417089]),\n",
       " 'std_test_score': array([ 0.00177123,  0.00087104]),\n",
       " 'rank_test_score': array([2, 1], dtype=int32),\n",
       " 'split0_train_score': array([ 0.96403466,  0.9659964 ]),\n",
       " 'split1_train_score': array([ 0.96338074,  0.96427988]),\n",
       " 'split2_train_score': array([ 0.96611901,  0.96656858]),\n",
       " 'mean_train_score': array([ 0.96451147,  0.96561495]),\n",
       " 'std_train_score': array([ 0.00116763,  0.00097251])}"
      ]
     },
     "execution_count": 37,
     "metadata": {},
     "output_type": "execute_result"
    }
   ],
   "source": [
    "# Results of grid search\n",
    "#tuned_model_enhance.cv_enhance_results_\n",
    "tuned_model_enhance.cv_results_"
   ]
  },
  {
   "cell_type": "code",
   "execution_count": 38,
   "metadata": {},
   "outputs": [
    {
     "data": {
      "text/plain": [
       "{'clf__estimator__n_estimators': 25}"
      ]
     },
     "execution_count": 38,
     "metadata": {},
     "output_type": "execute_result"
    }
   ],
   "source": [
    "# Parameters for best test score\n",
    "tuned_model_enhance.best_params_"
   ]
  },
  {
   "cell_type": "code",
   "execution_count": 39,
   "metadata": {},
   "outputs": [
    {
     "name": "stderr",
     "output_type": "stream",
     "text": [
      "/opt/conda/lib/python3.6/site-packages/ipykernel_launcher.py:2: FutureWarning: Method .as_matrix will be removed in a future version. Use .values instead.\n",
      "  \n"
     ]
    },
    {
     "name": "stdout",
     "output_type": "stream",
     "text": [
      "Fitting 3 folds for each of 2 candidates, totalling 6 fits\n",
      "[CV] clf__estimator__n_estimators=10 .................................\n",
      "[CV]  clf__estimator__n_estimators=10, score=0.9545528854013405, total=  44.7s\n",
      "[CV] clf__estimator__n_estimators=10 .................................\n"
     ]
    },
    {
     "name": "stderr",
     "output_type": "stream",
     "text": [
      "[Parallel(n_jobs=1)]: Done   1 out of   1 | elapsed:   55.3s remaining:    0.0s\n"
     ]
    },
    {
     "name": "stdout",
     "output_type": "stream",
     "text": [
      "[CV]  clf__estimator__n_estimators=10, score=0.9591302926271048, total=  45.1s\n",
      "[CV] clf__estimator__n_estimators=10 .................................\n"
     ]
    },
    {
     "name": "stderr",
     "output_type": "stream",
     "text": [
      "[Parallel(n_jobs=1)]: Done   2 out of   2 | elapsed:  1.9min remaining:    0.0s\n"
     ]
    },
    {
     "name": "stdout",
     "output_type": "stream",
     "text": [
      "[CV]  clf__estimator__n_estimators=10, score=0.9584763773091385, total=  45.3s\n",
      "[CV] clf__estimator__n_estimators=25 .................................\n"
     ]
    },
    {
     "name": "stderr",
     "output_type": "stream",
     "text": [
      "[Parallel(n_jobs=1)]: Done   3 out of   3 | elapsed:  2.8min remaining:    0.0s\n"
     ]
    },
    {
     "name": "stdout",
     "output_type": "stream",
     "text": [
      "[CV]  clf__estimator__n_estimators=25, score=0.957495504332189, total= 1.6min\n",
      "[CV] clf__estimator__n_estimators=25 .................................\n"
     ]
    },
    {
     "name": "stderr",
     "output_type": "stream",
     "text": [
      "[Parallel(n_jobs=1)]: Done   4 out of   4 | elapsed:  4.6min remaining:    0.0s\n"
     ]
    },
    {
     "name": "stdout",
     "output_type": "stream",
     "text": [
      "[CV]  clf__estimator__n_estimators=25, score=0.9627268268759196, total= 1.6min\n",
      "[CV] clf__estimator__n_estimators=25 .................................\n"
     ]
    },
    {
     "name": "stderr",
     "output_type": "stream",
     "text": [
      "[Parallel(n_jobs=1)]: Done   5 out of   5 | elapsed:  6.5min remaining:    0.0s\n"
     ]
    },
    {
     "name": "stdout",
     "output_type": "stream",
     "text": [
      "[CV]  clf__estimator__n_estimators=25, score=0.9579859408206637, total= 1.6min\n"
     ]
    },
    {
     "name": "stderr",
     "output_type": "stream",
     "text": [
      "[Parallel(n_jobs=1)]: Done   6 out of   6 | elapsed:  8.3min remaining:    0.0s\n",
      "[Parallel(n_jobs=1)]: Done   6 out of   6 | elapsed:  8.3min finished\n"
     ]
    },
    {
     "name": "stdout",
     "output_type": "stream",
     "text": [
      "f1_score: 0.936118728607\n",
      "precision: 0.936869264405\n",
      "recall: 0.947379388288\n"
     ]
    },
    {
     "name": "stderr",
     "output_type": "stream",
     "text": [
      "/opt/conda/lib/python3.6/site-packages/ipykernel_launcher.py:7: FutureWarning: set_value is deprecated and will be removed in a future release. Please use .at[] or .iat[] accessors instead\n",
      "  import sys\n",
      "/opt/conda/lib/python3.6/site-packages/ipykernel_launcher.py:8: FutureWarning: set_value is deprecated and will be removed in a future release. Please use .at[] or .iat[] accessors instead\n",
      "  \n",
      "/opt/conda/lib/python3.6/site-packages/ipykernel_launcher.py:9: FutureWarning: set_value is deprecated and will be removed in a future release. Please use .at[] or .iat[] accessors instead\n",
      "  if __name__ == '__main__':\n",
      "/opt/conda/lib/python3.6/site-packages/ipykernel_launcher.py:10: FutureWarning: set_value is deprecated and will be removed in a future release. Please use .at[] or .iat[] accessors instead\n",
      "  # Remove the CWD from sys.path while we load stuff.\n",
      "/opt/conda/lib/python3.6/site-packages/sklearn/metrics/classification.py:1135: UndefinedMetricWarning: Precision and F-score are ill-defined and being set to 0.0 in labels with no predicted samples.\n",
      "  'precision', 'predicted', average, warn_for)\n"
     ]
    },
    {
     "data": {
      "text/html": [
       "<div>\n",
       "<style scoped>\n",
       "    .dataframe tbody tr th:only-of-type {\n",
       "        vertical-align: middle;\n",
       "    }\n",
       "\n",
       "    .dataframe tbody tr th {\n",
       "        vertical-align: top;\n",
       "    }\n",
       "\n",
       "    .dataframe thead th {\n",
       "        text-align: right;\n",
       "    }\n",
       "</style>\n",
       "<table border=\"1\" class=\"dataframe\">\n",
       "  <thead>\n",
       "    <tr style=\"text-align: right;\">\n",
       "      <th></th>\n",
       "      <th>Category</th>\n",
       "      <th>f1_score</th>\n",
       "      <th>precision</th>\n",
       "      <th>recall</th>\n",
       "    </tr>\n",
       "  </thead>\n",
       "  <tbody>\n",
       "    <tr>\n",
       "      <th>1</th>\n",
       "      <td>related</td>\n",
       "      <td>0.786343</td>\n",
       "      <td>0.791796</td>\n",
       "      <td>0.802924</td>\n",
       "    </tr>\n",
       "    <tr>\n",
       "      <th>2</th>\n",
       "      <td>request</td>\n",
       "      <td>0.881782</td>\n",
       "      <td>0.885191</td>\n",
       "      <td>0.892308</td>\n",
       "    </tr>\n",
       "    <tr>\n",
       "      <th>3</th>\n",
       "      <td>offer</td>\n",
       "      <td>0.994282</td>\n",
       "      <td>0.992386</td>\n",
       "      <td>0.996186</td>\n",
       "    </tr>\n",
       "    <tr>\n",
       "      <th>4</th>\n",
       "      <td>aid_related</td>\n",
       "      <td>0.768112</td>\n",
       "      <td>0.768313</td>\n",
       "      <td>0.769866</td>\n",
       "    </tr>\n",
       "    <tr>\n",
       "      <th>5</th>\n",
       "      <td>medical_help</td>\n",
       "      <td>0.896884</td>\n",
       "      <td>0.902719</td>\n",
       "      <td>0.924476</td>\n",
       "    </tr>\n",
       "    <tr>\n",
       "      <th>6</th>\n",
       "      <td>medical_products</td>\n",
       "      <td>0.935083</td>\n",
       "      <td>0.944846</td>\n",
       "      <td>0.953338</td>\n",
       "    </tr>\n",
       "    <tr>\n",
       "      <th>7</th>\n",
       "      <td>search_and_rescue</td>\n",
       "      <td>0.962811</td>\n",
       "      <td>0.963113</td>\n",
       "      <td>0.973427</td>\n",
       "    </tr>\n",
       "    <tr>\n",
       "      <th>8</th>\n",
       "      <td>security</td>\n",
       "      <td>0.970852</td>\n",
       "      <td>0.961469</td>\n",
       "      <td>0.98042</td>\n",
       "    </tr>\n",
       "    <tr>\n",
       "      <th>9</th>\n",
       "      <td>military</td>\n",
       "      <td>0.962874</td>\n",
       "      <td>0.964514</td>\n",
       "      <td>0.972028</td>\n",
       "    </tr>\n",
       "    <tr>\n",
       "      <th>10</th>\n",
       "      <td>child_alone</td>\n",
       "      <td>1</td>\n",
       "      <td>1</td>\n",
       "      <td>1</td>\n",
       "    </tr>\n",
       "    <tr>\n",
       "      <th>11</th>\n",
       "      <td>water</td>\n",
       "      <td>0.941867</td>\n",
       "      <td>0.945849</td>\n",
       "      <td>0.950922</td>\n",
       "    </tr>\n",
       "    <tr>\n",
       "      <th>12</th>\n",
       "      <td>food</td>\n",
       "      <td>0.931607</td>\n",
       "      <td>0.932306</td>\n",
       "      <td>0.936809</td>\n",
       "    </tr>\n",
       "    <tr>\n",
       "      <th>13</th>\n",
       "      <td>shelter</td>\n",
       "      <td>0.920953</td>\n",
       "      <td>0.927842</td>\n",
       "      <td>0.933376</td>\n",
       "    </tr>\n",
       "    <tr>\n",
       "      <th>14</th>\n",
       "      <td>clothing</td>\n",
       "      <td>0.983382</td>\n",
       "      <td>0.984933</td>\n",
       "      <td>0.987285</td>\n",
       "    </tr>\n",
       "    <tr>\n",
       "      <th>15</th>\n",
       "      <td>money</td>\n",
       "      <td>0.968194</td>\n",
       "      <td>0.971386</td>\n",
       "      <td>0.978004</td>\n",
       "    </tr>\n",
       "    <tr>\n",
       "      <th>16</th>\n",
       "      <td>missing_people</td>\n",
       "      <td>0.984959</td>\n",
       "      <td>0.980012</td>\n",
       "      <td>0.989955</td>\n",
       "    </tr>\n",
       "    <tr>\n",
       "      <th>17</th>\n",
       "      <td>refugees</td>\n",
       "      <td>0.954733</td>\n",
       "      <td>0.955461</td>\n",
       "      <td>0.967959</td>\n",
       "    </tr>\n",
       "    <tr>\n",
       "      <th>18</th>\n",
       "      <td>death</td>\n",
       "      <td>0.948136</td>\n",
       "      <td>0.957934</td>\n",
       "      <td>0.961348</td>\n",
       "    </tr>\n",
       "    <tr>\n",
       "      <th>19</th>\n",
       "      <td>other_aid</td>\n",
       "      <td>0.821116</td>\n",
       "      <td>0.831019</td>\n",
       "      <td>0.871329</td>\n",
       "    </tr>\n",
       "    <tr>\n",
       "      <th>20</th>\n",
       "      <td>infrastructure_related</td>\n",
       "      <td>0.903621</td>\n",
       "      <td>0.881771</td>\n",
       "      <td>0.934266</td>\n",
       "    </tr>\n",
       "    <tr>\n",
       "      <th>21</th>\n",
       "      <td>transport</td>\n",
       "      <td>0.951279</td>\n",
       "      <td>0.953802</td>\n",
       "      <td>0.962746</td>\n",
       "    </tr>\n",
       "    <tr>\n",
       "      <th>22</th>\n",
       "      <td>buildings</td>\n",
       "      <td>0.939109</td>\n",
       "      <td>0.947962</td>\n",
       "      <td>0.954609</td>\n",
       "    </tr>\n",
       "    <tr>\n",
       "      <th>23</th>\n",
       "      <td>electricity</td>\n",
       "      <td>0.973485</td>\n",
       "      <td>0.975992</td>\n",
       "      <td>0.981564</td>\n",
       "    </tr>\n",
       "    <tr>\n",
       "      <th>24</th>\n",
       "      <td>tools</td>\n",
       "      <td>0.990284</td>\n",
       "      <td>0.987073</td>\n",
       "      <td>0.993516</td>\n",
       "    </tr>\n",
       "    <tr>\n",
       "      <th>25</th>\n",
       "      <td>hospitals</td>\n",
       "      <td>0.982171</td>\n",
       "      <td>0.976488</td>\n",
       "      <td>0.987921</td>\n",
       "    </tr>\n",
       "    <tr>\n",
       "      <th>26</th>\n",
       "      <td>shops</td>\n",
       "      <td>0.994282</td>\n",
       "      <td>0.992386</td>\n",
       "      <td>0.996186</td>\n",
       "    </tr>\n",
       "    <tr>\n",
       "      <th>27</th>\n",
       "      <td>aid_centers</td>\n",
       "      <td>0.981349</td>\n",
       "      <td>0.975235</td>\n",
       "      <td>0.98754</td>\n",
       "    </tr>\n",
       "    <tr>\n",
       "      <th>28</th>\n",
       "      <td>other_infrastructure</td>\n",
       "      <td>0.937248</td>\n",
       "      <td>0.922111</td>\n",
       "      <td>0.957025</td>\n",
       "    </tr>\n",
       "    <tr>\n",
       "      <th>29</th>\n",
       "      <td>weather_related</td>\n",
       "      <td>0.870227</td>\n",
       "      <td>0.872716</td>\n",
       "      <td>0.875016</td>\n",
       "    </tr>\n",
       "    <tr>\n",
       "      <th>30</th>\n",
       "      <td>floods</td>\n",
       "      <td>0.942889</td>\n",
       "      <td>0.948036</td>\n",
       "      <td>0.950668</td>\n",
       "    </tr>\n",
       "    <tr>\n",
       "      <th>31</th>\n",
       "      <td>storm</td>\n",
       "      <td>0.935356</td>\n",
       "      <td>0.935675</td>\n",
       "      <td>0.941259</td>\n",
       "    </tr>\n",
       "    <tr>\n",
       "      <th>32</th>\n",
       "      <td>fire</td>\n",
       "      <td>0.984261</td>\n",
       "      <td>0.979254</td>\n",
       "      <td>0.98932</td>\n",
       "    </tr>\n",
       "    <tr>\n",
       "      <th>33</th>\n",
       "      <td>earthquake</td>\n",
       "      <td>0.969251</td>\n",
       "      <td>0.969156</td>\n",
       "      <td>0.970248</td>\n",
       "    </tr>\n",
       "    <tr>\n",
       "      <th>34</th>\n",
       "      <td>cold</td>\n",
       "      <td>0.97344</td>\n",
       "      <td>0.975857</td>\n",
       "      <td>0.981055</td>\n",
       "    </tr>\n",
       "    <tr>\n",
       "      <th>35</th>\n",
       "      <td>other_weather</td>\n",
       "      <td>0.923299</td>\n",
       "      <td>0.928483</td>\n",
       "      <td>0.945836</td>\n",
       "    </tr>\n",
       "    <tr>\n",
       "      <th>36</th>\n",
       "      <td>direct_report</td>\n",
       "      <td>0.834752</td>\n",
       "      <td>0.844206</td>\n",
       "      <td>0.854927</td>\n",
       "    </tr>\n",
       "  </tbody>\n",
       "</table>\n",
       "</div>"
      ],
      "text/plain": [
       "                  Category  f1_score precision    recall\n",
       "1                  related  0.786343  0.791796  0.802924\n",
       "2                  request  0.881782  0.885191  0.892308\n",
       "3                    offer  0.994282  0.992386  0.996186\n",
       "4              aid_related  0.768112  0.768313  0.769866\n",
       "5             medical_help  0.896884  0.902719  0.924476\n",
       "6         medical_products  0.935083  0.944846  0.953338\n",
       "7        search_and_rescue  0.962811  0.963113  0.973427\n",
       "8                 security  0.970852  0.961469   0.98042\n",
       "9                 military  0.962874  0.964514  0.972028\n",
       "10             child_alone         1         1         1\n",
       "11                   water  0.941867  0.945849  0.950922\n",
       "12                    food  0.931607  0.932306  0.936809\n",
       "13                 shelter  0.920953  0.927842  0.933376\n",
       "14                clothing  0.983382  0.984933  0.987285\n",
       "15                   money  0.968194  0.971386  0.978004\n",
       "16          missing_people  0.984959  0.980012  0.989955\n",
       "17                refugees  0.954733  0.955461  0.967959\n",
       "18                   death  0.948136  0.957934  0.961348\n",
       "19               other_aid  0.821116  0.831019  0.871329\n",
       "20  infrastructure_related  0.903621  0.881771  0.934266\n",
       "21               transport  0.951279  0.953802  0.962746\n",
       "22               buildings  0.939109  0.947962  0.954609\n",
       "23             electricity  0.973485  0.975992  0.981564\n",
       "24                   tools  0.990284  0.987073  0.993516\n",
       "25               hospitals  0.982171  0.976488  0.987921\n",
       "26                   shops  0.994282  0.992386  0.996186\n",
       "27             aid_centers  0.981349  0.975235   0.98754\n",
       "28    other_infrastructure  0.937248  0.922111  0.957025\n",
       "29         weather_related  0.870227  0.872716  0.875016\n",
       "30                  floods  0.942889  0.948036  0.950668\n",
       "31                   storm  0.935356  0.935675  0.941259\n",
       "32                    fire  0.984261  0.979254   0.98932\n",
       "33              earthquake  0.969251  0.969156  0.970248\n",
       "34                    cold   0.97344  0.975857  0.981055\n",
       "35           other_weather  0.923299  0.928483  0.945836\n",
       "36           direct_report  0.834752  0.844206  0.854927"
      ]
     },
     "execution_count": 39,
     "metadata": {},
     "output_type": "execute_result"
    }
   ],
   "source": [
    "# testing the model\n",
    "cv.fit(X_train.as_matrix(), y_train.as_matrix())\n",
    "y_pred = cv.predict(X_test)\n",
    "results2 = get_results(y_test, y_pred)\n",
    "results2"
   ]
  },
  {
   "cell_type": "markdown",
   "metadata": {},
   "source": [
    "### 9. Export your model as a pickle file"
   ]
  },
  {
   "cell_type": "code",
   "execution_count": 40,
   "metadata": {},
   "outputs": [
    {
     "data": {
      "text/plain": [
       "Category     relatedrequestofferaid_relatedmedical_helpmedi...\n",
       "f1_score                                               33.7003\n",
       "precision                                              33.7273\n",
       "recall                                                 34.1057\n",
       "dtype: object"
      ]
     },
     "execution_count": 40,
     "metadata": {},
     "output_type": "execute_result"
    }
   ],
   "source": [
    "# Get summary stats for first model\n",
    "results2.sum()"
   ]
  },
  {
   "cell_type": "code",
   "execution_count": 41,
   "metadata": {},
   "outputs": [],
   "source": [
    "# best model\n",
    "pickle.dump(tuned_model, open('disaster_model.sav', 'wb'))"
   ]
  },
  {
   "cell_type": "markdown",
   "metadata": {},
   "source": [
    "### 10. Use this notebook to complete `train.py`\n",
    "Use the template file attached in the Resources folder to write a script that runs the steps above to create a database and export a model based on a new dataset specified by the user."
   ]
  },
  {
   "cell_type": "code",
   "execution_count": null,
   "metadata": {},
   "outputs": [],
   "source": []
  }
 ],
 "metadata": {
  "kernelspec": {
   "display_name": "Python 3",
   "language": "python",
   "name": "python3"
  },
  "language_info": {
   "codemirror_mode": {
    "name": "ipython",
    "version": 3
   },
   "file_extension": ".py",
   "mimetype": "text/x-python",
   "name": "python",
   "nbconvert_exporter": "python",
   "pygments_lexer": "ipython3",
   "version": "3.6.3"
  }
 },
 "nbformat": 4,
 "nbformat_minor": 2
}
